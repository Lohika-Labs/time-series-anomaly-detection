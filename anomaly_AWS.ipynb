{
 "cells": [
  {
   "cell_type": "markdown",
   "metadata": {},
   "source": [
    "# Anomaly detection in time-series data using MXNet and NAB dataset"
   ]
  },
  {
   "cell_type": "code",
   "execution_count": 1,
   "metadata": {},
   "outputs": [],
   "source": [
    "import pandas as pd\n",
    "import numpy as np\n",
    "import json\n",
    "import matplotlib.pyplot as plt\n",
    "from IPython.core.pylabtools import figsize\n",
    "import mxnet as mx\n",
    "from mxnet import nd, autograd, gluon\n",
    "\n",
    "from sklearn import preprocessing\n",
    "from sklearn.metrics import f1_score"
   ]
  },
  {
   "cell_type": "code",
   "execution_count": 2,
   "metadata": {},
   "outputs": [],
   "source": [
    "nab_path = './NAB'\n",
    "nab_data_path = nab_path + '/data/'\n",
    "\n",
    "labels_filename = '/labels/combined_labels.json'\n",
    "training_file_name = 'realAWSCloudwatch/rds_cpu_utilization_e47b3b.csv'\n",
    "test_file_name = 'realAWSCloudwatch/rds_cpu_utilization_cc0c53.csv'"
   ]
  },
  {
   "cell_type": "markdown",
   "metadata": {},
   "source": [
    "## Load labels from NAB dataset"
   ]
  },
  {
   "cell_type": "code",
   "execution_count": 3,
   "metadata": {},
   "outputs": [
    {
     "name": "stdout",
     "output_type": "stream",
     "text": [
      "Training file anomalies labels:  ['2014-04-13 06:52:00', '2014-04-18 23:27:00']\n",
      "Test file anomalies labels:  ['2014-02-25 07:15:00', '2014-02-27 00:50:00']\n"
     ]
    }
   ],
   "source": [
    "labels_file = open(nab_path + labels_filename, 'r')\n",
    "labels = json.loads(labels_file.read())\n",
    "labels_file.close()\n",
    "\n",
    "print('Training file anomalies labels: ', labels[training_file_name])\n",
    "print('Test file anomalies labels: ', labels[test_file_name])"
   ]
  },
  {
   "cell_type": "markdown",
   "metadata": {},
   "source": [
    "## Load Training Data\n",
    "\n",
    "We take real AWS Cloudwatch data from some RDS instance for the study. Adding information on labled anomalies we have right from the start for visibility. "
   ]
  },
  {
   "cell_type": "code",
   "execution_count": 4,
   "metadata": {},
   "outputs": [
    {
     "data": {
      "text/plain": [
       "(4032, 3)"
      ]
     },
     "execution_count": 4,
     "metadata": {},
     "output_type": "execute_result"
    }
   ],
   "source": [
    "def load_data_frame_with_labels(file_name):\n",
    "    data_frame = pd.read_csv(nab_data_path + file_name)\n",
    "    data_frame['anomaly_label'] = data_frame['timestamp'].isin(\n",
    "        labels[file_name]).astype(int)\n",
    "    return data_frame\n",
    "\n",
    "\n",
    "training_data_frame = load_data_frame_with_labels(training_file_name)\n",
    "training_data_frame.shape"
   ]
  },
  {
   "cell_type": "code",
   "execution_count": 5,
   "metadata": {},
   "outputs": [
    {
     "data": {
      "text/html": [
       "<div>\n",
       "<style scoped>\n",
       "    .dataframe tbody tr th:only-of-type {\n",
       "        vertical-align: middle;\n",
       "    }\n",
       "\n",
       "    .dataframe tbody tr th {\n",
       "        vertical-align: top;\n",
       "    }\n",
       "\n",
       "    .dataframe thead th {\n",
       "        text-align: right;\n",
       "    }\n",
       "</style>\n",
       "<table border=\"1\" class=\"dataframe\">\n",
       "  <thead>\n",
       "    <tr style=\"text-align: right;\">\n",
       "      <th></th>\n",
       "      <th>timestamp</th>\n",
       "      <th>value</th>\n",
       "      <th>anomaly_label</th>\n",
       "    </tr>\n",
       "  </thead>\n",
       "  <tbody>\n",
       "    <tr>\n",
       "      <th>0</th>\n",
       "      <td>2014-04-10 00:02:00</td>\n",
       "      <td>14.012</td>\n",
       "      <td>0</td>\n",
       "    </tr>\n",
       "    <tr>\n",
       "      <th>1</th>\n",
       "      <td>2014-04-10 00:07:00</td>\n",
       "      <td>13.334</td>\n",
       "      <td>0</td>\n",
       "    </tr>\n",
       "    <tr>\n",
       "      <th>2</th>\n",
       "      <td>2014-04-10 00:12:00</td>\n",
       "      <td>15.000</td>\n",
       "      <td>0</td>\n",
       "    </tr>\n",
       "    <tr>\n",
       "      <th>3</th>\n",
       "      <td>2014-04-10 00:17:00</td>\n",
       "      <td>13.998</td>\n",
       "      <td>0</td>\n",
       "    </tr>\n",
       "    <tr>\n",
       "      <th>4</th>\n",
       "      <td>2014-04-10 00:22:00</td>\n",
       "      <td>14.332</td>\n",
       "      <td>0</td>\n",
       "    </tr>\n",
       "  </tbody>\n",
       "</table>\n",
       "</div>"
      ],
      "text/plain": [
       "             timestamp   value  anomaly_label\n",
       "0  2014-04-10 00:02:00  14.012              0\n",
       "1  2014-04-10 00:07:00  13.334              0\n",
       "2  2014-04-10 00:12:00  15.000              0\n",
       "3  2014-04-10 00:17:00  13.998              0\n",
       "4  2014-04-10 00:22:00  14.332              0"
      ]
     },
     "execution_count": 5,
     "metadata": {},
     "output_type": "execute_result"
    }
   ],
   "source": [
    "training_data_frame.head()"
   ]
  },
  {
   "cell_type": "markdown",
   "metadata": {},
   "source": [
    "## Load Test Data\n",
    "\n",
    "There is another file with real AWS Cloudwatch data from some RDS instance. It has also labeled anomalies. We will use it as a Test dataset at the end to calculate F1 score."
   ]
  },
  {
   "cell_type": "code",
   "execution_count": 6,
   "metadata": {},
   "outputs": [
    {
     "data": {
      "text/plain": [
       "(4032, 3)"
      ]
     },
     "execution_count": 6,
     "metadata": {},
     "output_type": "execute_result"
    }
   ],
   "source": [
    "test_data_frame = load_data_frame_with_labels(test_file_name)\n",
    "test_data_frame.shape"
   ]
  },
  {
   "cell_type": "code",
   "execution_count": 7,
   "metadata": {},
   "outputs": [
    {
     "data": {
      "text/html": [
       "<div>\n",
       "<style scoped>\n",
       "    .dataframe tbody tr th:only-of-type {\n",
       "        vertical-align: middle;\n",
       "    }\n",
       "\n",
       "    .dataframe tbody tr th {\n",
       "        vertical-align: top;\n",
       "    }\n",
       "\n",
       "    .dataframe thead th {\n",
       "        text-align: right;\n",
       "    }\n",
       "</style>\n",
       "<table border=\"1\" class=\"dataframe\">\n",
       "  <thead>\n",
       "    <tr style=\"text-align: right;\">\n",
       "      <th></th>\n",
       "      <th>timestamp</th>\n",
       "      <th>value</th>\n",
       "      <th>anomaly_label</th>\n",
       "    </tr>\n",
       "  </thead>\n",
       "  <tbody>\n",
       "    <tr>\n",
       "      <th>0</th>\n",
       "      <td>2014-02-14 14:30:00</td>\n",
       "      <td>6.456</td>\n",
       "      <td>0</td>\n",
       "    </tr>\n",
       "    <tr>\n",
       "      <th>1</th>\n",
       "      <td>2014-02-14 14:35:00</td>\n",
       "      <td>5.816</td>\n",
       "      <td>0</td>\n",
       "    </tr>\n",
       "    <tr>\n",
       "      <th>2</th>\n",
       "      <td>2014-02-14 14:40:00</td>\n",
       "      <td>6.268</td>\n",
       "      <td>0</td>\n",
       "    </tr>\n",
       "    <tr>\n",
       "      <th>3</th>\n",
       "      <td>2014-02-14 14:45:00</td>\n",
       "      <td>5.816</td>\n",
       "      <td>0</td>\n",
       "    </tr>\n",
       "    <tr>\n",
       "      <th>4</th>\n",
       "      <td>2014-02-14 14:50:00</td>\n",
       "      <td>5.862</td>\n",
       "      <td>0</td>\n",
       "    </tr>\n",
       "  </tbody>\n",
       "</table>\n",
       "</div>"
      ],
      "text/plain": [
       "             timestamp  value  anomaly_label\n",
       "0  2014-02-14 14:30:00  6.456              0\n",
       "1  2014-02-14 14:35:00  5.816              0\n",
       "2  2014-02-14 14:40:00  6.268              0\n",
       "3  2014-02-14 14:45:00  5.816              0\n",
       "4  2014-02-14 14:50:00  5.862              0"
      ]
     },
     "execution_count": 7,
     "metadata": {},
     "output_type": "execute_result"
    }
   ],
   "source": [
    "test_data_frame.head()"
   ]
  },
  {
   "cell_type": "markdown",
   "metadata": {},
   "source": [
    "## Plotting training and test data"
   ]
  },
  {
   "cell_type": "code",
   "execution_count": 8,
   "metadata": {},
   "outputs": [],
   "source": [
    "def convert_timestamps(data_frame):\n",
    "    data_frame['timestamp'] = pd.to_datetime(data_frame['timestamp'])\n",
    "    data_frame['time_epoch'] = data_frame['timestamp'].astype(np.int64)\n",
    "\n",
    "\n",
    "convert_timestamps(training_data_frame)\n",
    "convert_timestamps(test_data_frame)"
   ]
  },
  {
   "cell_type": "code",
   "execution_count": 9,
   "metadata": {
    "scrolled": true
   },
   "outputs": [
    {
     "data": {
      "image/png": "[encoded data removed]",
      "text/plain": [
       "<Figure size 1152x504 with 1 Axes>"
      ]
     },
     "metadata": {
      "needs_background": "light"
     },
     "output_type": "display_data"
    }
   ],
   "source": [
    "def prepare_plot(data_frame):\n",
    "    fig, ax = plt.subplots()\n",
    "    ax.scatter(data_frame['time_epoch'],\n",
    "               data_frame['value'], s=8, color='blue')\n",
    "\n",
    "    labled_anomalies = data_frame.loc[data_frame['anomaly_label'] == 1, [\n",
    "        'time_epoch', 'value']]\n",
    "    ax.scatter(labled_anomalies['time_epoch'],\n",
    "               labled_anomalies['value'], s=200, color='green')\n",
    "\n",
    "    return ax\n",
    "\n",
    "\n",
    "figsize(16, 7)\n",
    "prepare_plot(training_data_frame)\n",
    "plt.show()"
   ]
  },
  {
   "cell_type": "code",
   "execution_count": 10,
   "metadata": {},
   "outputs": [
    {
     "data": {
      "image/png": "[encoded data removed]",
      "text/plain": [
       "<Figure size 1152x504 with 1 Axes>"
      ]
     },
     "metadata": {
      "needs_background": "light"
     },
     "output_type": "display_data"
    }
   ],
   "source": [
    "figsize(16, 7)\n",
    "prepare_plot(test_data_frame)\n",
    "plt.show()"
   ]
  },
  {
   "cell_type": "markdown",
   "metadata": {},
   "source": [
    "## Replacing anomaly values in the training set\n",
    "\n",
    "We have tested 2 approaches: training on unprepared data and training on dataset with masked anomalies. For our case working with the dataset that has masked anomalies gives us better results with furhter anomaly detection."
   ]
  },
  {
   "cell_type": "code",
   "execution_count": 11,
   "metadata": {},
   "outputs": [],
   "source": [
    "training_data_frame['value_no_anomaly'] = training_data_frame[training_data_frame['anomaly_label'] == 0]['value']\n",
    "training_data_frame['value_no_anomaly'] = training_data_frame['value_no_anomaly'].fillna(method='ffill')"
   ]
  },
  {
   "cell_type": "markdown",
   "metadata": {},
   "source": [
    "Skip the following line to work with the original data that includes anomalies"
   ]
  },
  {
   "cell_type": "code",
   "execution_count": 12,
   "metadata": {},
   "outputs": [],
   "source": [
    "training_data_frame['value'] = training_data_frame['value_no_anomaly']"
   ]
  },
  {
   "cell_type": "markdown",
   "metadata": {},
   "source": [
    "## Scale the train data"
   ]
  },
  {
   "cell_type": "code",
   "execution_count": 13,
   "metadata": {},
   "outputs": [],
   "source": [
    "features = ['value']\n",
    "feature_count = len(features)\n",
    "\n",
    "data_scaler = preprocessing.StandardScaler()\n",
    "data_scaler.fit(training_data_frame[features].values.astype(np.float32))\n",
    "\n",
    "training_data = data_scaler.transform(\n",
    "    training_data_frame[features].values.astype(np.float32)\n",
    ")"
   ]
  },
  {
   "cell_type": "markdown",
   "metadata": {},
   "source": [
    "## Prepare training and validation data"
   ]
  },
  {
   "cell_type": "code",
   "execution_count": 14,
   "metadata": {},
   "outputs": [],
   "source": [
    "rows = len(training_data)\n",
    "\n",
    "split_factor = 0.8\n",
    "\n",
    "training = training_data[0:int(rows * split_factor)]\n",
    "validation = training_data[int(rows * split_factor):]"
   ]
  },
  {
   "cell_type": "markdown",
   "metadata": {},
   "source": [
    "## Choosing a model\n",
    "\n",
    "We focus on LSTM NN for this case."
   ]
  },
  {
   "cell_type": "code",
   "execution_count": 15,
   "metadata": {},
   "outputs": [],
   "source": [
    "model = mx.gluon.nn.Sequential()\n",
    "with model.name_scope():\n",
    "    model.add(mx.gluon.rnn.LSTM(feature_count))\n",
    "    model.add(mx.gluon.nn.Dense(feature_count, activation='tanh'))"
   ]
  },
  {
   "cell_type": "markdown",
   "metadata": {},
   "source": [
    "## Training process"
   ]
  },
  {
   "cell_type": "code",
   "execution_count": 16,
   "metadata": {},
   "outputs": [],
   "source": [
    "L = gluon.loss.L2Loss()\n",
    "\n",
    "\n",
    "def evaluate_accuracy(data_iterator, model, L):\n",
    "    loss_avg = 0.\n",
    "    for i, data in enumerate(data_iterator):\n",
    "        data = data.as_in_context(ctx).reshape((-1, 1, feature_count))\n",
    "        output = model(data)\n",
    "        loss = L(output, data)\n",
    "        loss_avg = (loss_avg * i + nd.mean(loss).asscalar()) / (i + 1)\n",
    "    return loss_avg"
   ]
  },
  {
   "cell_type": "code",
   "execution_count": 17,
   "metadata": {},
   "outputs": [
    {
     "name": "stdout",
     "output_type": "stream",
     "text": [
      "1\n",
      "2\n",
      "3\n",
      "4\n",
      "5\n",
      "6\n",
      "7\n",
      "8\n",
      "9\n",
      "10\n",
      "11\n",
      "12\n",
      "13\n",
      "14\n",
      "15\n"
     ]
    }
   ],
   "source": [
    "ctx = mx.cpu()\n",
    "\n",
    "epochs = 15\n",
    "batch_size = 48\n",
    "\n",
    "training_data_batches = mx.gluon.data.DataLoader(\n",
    "    training, batch_size, shuffle=False)\n",
    "validation_data_batches = mx.gluon.data.DataLoader(\n",
    "    validation, batch_size, shuffle=False)\n",
    "\n",
    "training_mse = []\n",
    "validation_mse = []\n",
    "\n",
    "model.collect_params().initialize(mx.init.Xavier(), ctx=ctx)\n",
    "\n",
    "trainer = gluon.Trainer(model.collect_params(), 'sgd', {'learning_rate': 0.01})\n",
    "\n",
    "for epoch in range(epochs):\n",
    "    print(str(epoch+1))\n",
    "    for i, data in enumerate(training_data_batches):\n",
    "        data = data.as_in_context(ctx).reshape((-1, 1, feature_count))\n",
    "\n",
    "        with autograd.record():\n",
    "            output = model(data)\n",
    "            loss = L(output, data)\n",
    "\n",
    "        loss.backward()\n",
    "        trainer.step(batch_size)\n",
    "\n",
    "    training_mse.append(evaluate_accuracy(training_data_batches, model, L))\n",
    "    validation_mse.append(evaluate_accuracy(validation_data_batches, model, L))"
   ]
  },
  {
   "cell_type": "code",
   "execution_count": 18,
   "metadata": {},
   "outputs": [
    {
     "data": {
      "image/png": "[encoded data removed]",
      "text/plain": [
       "<Figure size 1152x504 with 1 Axes>"
      ]
     },
     "metadata": {
      "needs_background": "light"
     },
     "output_type": "display_data"
    }
   ],
   "source": [
    "def plot_errors(train_mse, validate_mse):\n",
    "    epochs = range(len(train_mse))\n",
    "    plt.plot(epochs, train_mse, label='Training')\n",
    "    plt.plot(epochs, validate_mse, label='Validation')\n",
    "    plt.ylabel('MSE')\n",
    "    plt.xlabel('Epoch')\n",
    "    plt.legend()\n",
    "    plt.show()\n",
    "\n",
    "\n",
    "figsize(16, 7)\n",
    "plot_errors(training_mse, validation_mse)"
   ]
  },
  {
   "cell_type": "markdown",
   "metadata": {},
   "source": [
    "## Checking predicitons on test data"
   ]
  },
  {
   "cell_type": "code",
   "execution_count": 19,
   "metadata": {},
   "outputs": [],
   "source": [
    "def calculate_reconstruction_errors(input_data, L):\n",
    "    reconstruction_errors = []\n",
    "    for i, data in enumerate(input_data):\n",
    "        input = data.as_in_context(ctx).reshape((-1, feature_count, 1))\n",
    "        predicted_value = model(input)\n",
    "        reconstruction_error = L(predicted_value, input).asnumpy().flatten()\n",
    "        reconstruction_errors = np.append(\n",
    "            reconstruction_errors, reconstruction_error)\n",
    "\n",
    "    return reconstruction_errors"
   ]
  },
  {
   "cell_type": "code",
   "execution_count": 20,
   "metadata": {},
   "outputs": [],
   "source": [
    "all_training_data = mx.gluon.data.DataLoader(\n",
    "    training_data.astype(np.float32), batch_size, shuffle=False)\n",
    "\n",
    "training_reconstruction_errors = calculate_reconstruction_errors(\n",
    "    all_training_data, L)\n",
    "reconstruction_error_threshold = np.mean(training_reconstruction_errors) + 3 * \\\n",
    "    np.std(training_reconstruction_errors)"
   ]
  },
  {
   "cell_type": "code",
   "execution_count": 21,
   "metadata": {},
   "outputs": [],
   "source": [
    "test_data = data_scaler.fit_transform(\n",
    "    test_data_frame[features].values.astype(np.float32)\n",
    ")\n",
    "\n",
    "test_data_batches = mx.gluon.data.DataLoader(\n",
    "    test_data, batch_size, shuffle=False)\n",
    "\n",
    "test_reconstruction_errors = calculate_reconstruction_errors(\n",
    "    test_data_batches, L)\n",
    "\n",
    "predicted_test_anomalies = list(\n",
    "    map(lambda v: 1 if v > reconstruction_error_threshold else 0,\n",
    "        test_reconstruction_errors)\n",
    ")\n",
    "\n",
    "test_data_frame['anomaly_predicted'] = predicted_test_anomalies"
   ]
  },
  {
   "cell_type": "code",
   "execution_count": 22,
   "metadata": {},
   "outputs": [
    {
     "data": {
      "image/png": "[encoded data removed]",
      "text/plain": [
       "<Figure size 1152x504 with 1 Axes>"
      ]
     },
     "metadata": {
      "needs_background": "light"
     },
     "output_type": "display_data"
    }
   ],
   "source": [
    "figsize(16, 7)\n",
    "\n",
    "ax = prepare_plot(test_data_frame)\n",
    "\n",
    "predicted_anomalies = test_data_frame.loc[test_data_frame['anomaly_predicted'] == 1, [\n",
    "    'time_epoch', 'value']]\n",
    "ax.scatter(predicted_anomalies['time_epoch'],\n",
    "           predicted_anomalies['value'], s=50, color='red')\n",
    "\n",
    "plt.show()"
   ]
  },
  {
   "cell_type": "markdown",
   "metadata": {},
   "source": [
    "## F1 score calculation"
   ]
  },
  {
   "cell_type": "code",
   "execution_count": 23,
   "metadata": {},
   "outputs": [
    {
     "name": "stdout",
     "output_type": "stream",
     "text": [
      "F1 score: 0.8\n"
     ]
    }
   ],
   "source": [
    "test_labels = test_data_frame['anomaly_label'].astype(np.float32)\n",
    "\n",
    "score = f1_score(test_labels, predicted_test_anomalies)\n",
    "print('F1 score: ' + str(score))"
   ]
  },
  {
   "cell_type": "code",
   "execution_count": null,
   "metadata": {},
   "outputs": [],
   "source": []
  }
 ],
 "metadata": {
  "kernelspec": {
   "display_name": "Python 3",
   "language": "python",
   "name": "python3"
  },
  "language_info": {
   "codemirror_mode": {
    "name": "ipython",
    "version": 3
   },
   "file_extension": ".py",
   "mimetype": "text/x-python",
   "name": "python",
   "nbconvert_exporter": "python",
   "pygments_lexer": "ipython3",
   "version": "3.7.0"
  },
  "toc": {
   "nav_menu": {
    "height": "170px",
    "width": "246px"
   },
   "number_sections": true,
   "sideBar": true,
   "skip_h1_title": false,
   "toc_cell": false,
   "toc_position": {},
   "toc_section_display": "block",
   "toc_window_display": false
  }
 },
 "nbformat": 4,
 "nbformat_minor": 2
}
