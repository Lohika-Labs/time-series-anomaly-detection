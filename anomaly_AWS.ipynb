{
 "cells": [
  {
   "cell_type": "code",
   "execution_count": 2,
   "metadata": {},
   "outputs": [],
   "source": [
    "import pandas as pd\n",
    "import numpy as np\n",
    "import json\n",
    "import matplotlib.pyplot as plt\n",
    "from IPython.core.pylabtools import figsize\n",
    "import mxnet as mx\n",
    "from mxnet import nd, autograd, gluon\n",
    "\n",
    "from sklearn import preprocessing\n",
    "from sklearn.metrics import f1_score\n",
    "\n",
    "nab_path = './NAB'\n",
    "labels_path = nab_path + '/labels/combined_labels.json'\n",
    "nab_data_path = nab_path + '/data/'"
   ]
  },
  {
   "cell_type": "markdown",
   "metadata": {},
   "source": [
    "### Load labels"
   ]
  },
  {
   "cell_type": "code",
   "execution_count": 3,
   "metadata": {},
   "outputs": [],
   "source": [
    "labels_file = open(labels_path, 'r')\n",
    "labels = json.loads(labels_file.read())\n",
    "labels_file.close()\n",
    "\n",
    "# TODO output labels"
   ]
  },
  {
   "cell_type": "markdown",
   "metadata": {},
   "source": [
    "### Load training dataset"
   ]
  },
  {
   "cell_type": "code",
   "execution_count": 312,
   "metadata": {},
   "outputs": [
    {
     "data": {
      "text/html": [
       "<div>\n",
       "<style scoped>\n",
       "    .dataframe tbody tr th:only-of-type {\n",
       "        vertical-align: middle;\n",
       "    }\n",
       "\n",
       "    .dataframe tbody tr th {\n",
       "        vertical-align: top;\n",
       "    }\n",
       "\n",
       "    .dataframe thead th {\n",
       "        text-align: right;\n",
       "    }\n",
       "</style>\n",
       "<table border=\"1\" class=\"dataframe\">\n",
       "  <thead>\n",
       "    <tr style=\"text-align: right;\">\n",
       "      <th></th>\n",
       "      <th>timestamp</th>\n",
       "      <th>value</th>\n",
       "      <th>anomaly_label</th>\n",
       "    </tr>\n",
       "  </thead>\n",
       "  <tbody>\n",
       "    <tr>\n",
       "      <th>0</th>\n",
       "      <td>2014-04-10 00:02:00</td>\n",
       "      <td>14.012</td>\n",
       "      <td>0</td>\n",
       "    </tr>\n",
       "    <tr>\n",
       "      <th>1</th>\n",
       "      <td>2014-04-10 00:07:00</td>\n",
       "      <td>13.334</td>\n",
       "      <td>0</td>\n",
       "    </tr>\n",
       "    <tr>\n",
       "      <th>2</th>\n",
       "      <td>2014-04-10 00:12:00</td>\n",
       "      <td>15.000</td>\n",
       "      <td>0</td>\n",
       "    </tr>\n",
       "    <tr>\n",
       "      <th>3</th>\n",
       "      <td>2014-04-10 00:17:00</td>\n",
       "      <td>13.998</td>\n",
       "      <td>0</td>\n",
       "    </tr>\n",
       "    <tr>\n",
       "      <th>4</th>\n",
       "      <td>2014-04-10 00:22:00</td>\n",
       "      <td>14.332</td>\n",
       "      <td>0</td>\n",
       "    </tr>\n",
       "  </tbody>\n",
       "</table>\n",
       "</div>"
      ],
      "text/plain": [
       "             timestamp   value  anomaly_label\n",
       "0  2014-04-10 00:02:00  14.012              0\n",
       "1  2014-04-10 00:07:00  13.334              0\n",
       "2  2014-04-10 00:12:00  15.000              0\n",
       "3  2014-04-10 00:17:00  13.998              0\n",
       "4  2014-04-10 00:22:00  14.332              0"
      ]
     },
     "execution_count": 312,
     "metadata": {},
     "output_type": "execute_result"
    }
   ],
   "source": [
    "def load_data_frame(file_name):\n",
    "    data_frame = pd.read_csv(nab_data_path + file_name)\n",
    "    data_frame['anomaly_label'] = data_frame['timestamp'].isin(labels[file_name]).astype(int)\n",
    "    return data_frame\n",
    "\n",
    "training_file_name = 'realAWSCloudwatch/rds_cpu_utilization_e47b3b.csv'\n",
    "\n",
    "training_data_frame = load_data_frame(training_file_name)\n",
    "training_data_frame.head()"
   ]
  },
  {
   "cell_type": "code",
   "execution_count": 313,
   "metadata": {},
   "outputs": [
    {
     "data": {
      "text/plain": [
       "(4032, 3)"
      ]
     },
     "execution_count": 313,
     "metadata": {},
     "output_type": "execute_result"
    }
   ],
   "source": [
    "training_data_frame.shape"
   ]
  },
  {
   "cell_type": "code",
   "execution_count": 314,
   "metadata": {},
   "outputs": [
    {
     "data": {
      "text/html": [
       "<div>\n",
       "<style scoped>\n",
       "    .dataframe tbody tr th:only-of-type {\n",
       "        vertical-align: middle;\n",
       "    }\n",
       "\n",
       "    .dataframe tbody tr th {\n",
       "        vertical-align: top;\n",
       "    }\n",
       "\n",
       "    .dataframe thead th {\n",
       "        text-align: right;\n",
       "    }\n",
       "</style>\n",
       "<table border=\"1\" class=\"dataframe\">\n",
       "  <thead>\n",
       "    <tr style=\"text-align: right;\">\n",
       "      <th></th>\n",
       "      <th>timestamp</th>\n",
       "      <th>value</th>\n",
       "      <th>anomaly_label</th>\n",
       "    </tr>\n",
       "  </thead>\n",
       "  <tbody>\n",
       "    <tr>\n",
       "      <th>0</th>\n",
       "      <td>2014-02-14 14:30:00</td>\n",
       "      <td>6.456</td>\n",
       "      <td>0</td>\n",
       "    </tr>\n",
       "    <tr>\n",
       "      <th>1</th>\n",
       "      <td>2014-02-14 14:35:00</td>\n",
       "      <td>5.816</td>\n",
       "      <td>0</td>\n",
       "    </tr>\n",
       "    <tr>\n",
       "      <th>2</th>\n",
       "      <td>2014-02-14 14:40:00</td>\n",
       "      <td>6.268</td>\n",
       "      <td>0</td>\n",
       "    </tr>\n",
       "    <tr>\n",
       "      <th>3</th>\n",
       "      <td>2014-02-14 14:45:00</td>\n",
       "      <td>5.816</td>\n",
       "      <td>0</td>\n",
       "    </tr>\n",
       "    <tr>\n",
       "      <th>4</th>\n",
       "      <td>2014-02-14 14:50:00</td>\n",
       "      <td>5.862</td>\n",
       "      <td>0</td>\n",
       "    </tr>\n",
       "  </tbody>\n",
       "</table>\n",
       "</div>"
      ],
      "text/plain": [
       "             timestamp  value  anomaly_label\n",
       "0  2014-02-14 14:30:00  6.456              0\n",
       "1  2014-02-14 14:35:00  5.816              0\n",
       "2  2014-02-14 14:40:00  6.268              0\n",
       "3  2014-02-14 14:45:00  5.816              0\n",
       "4  2014-02-14 14:50:00  5.862              0"
      ]
     },
     "execution_count": 314,
     "metadata": {},
     "output_type": "execute_result"
    }
   ],
   "source": [
    "test_file_name = 'realAWSCloudwatch/rds_cpu_utilization_cc0c53.csv'\n",
    "\n",
    "test_data_frame = load_data_frame(test_file_name)\n",
    "test_data_frame.head()"
   ]
  },
  {
   "cell_type": "code",
   "execution_count": 315,
   "metadata": {},
   "outputs": [
    {
     "data": {
      "text/plain": [
       "(4032, 3)"
      ]
     },
     "execution_count": 315,
     "metadata": {},
     "output_type": "execute_result"
    }
   ],
   "source": [
    "test_data_frame.shape"
   ]
  },
  {
   "cell_type": "markdown",
   "metadata": {},
   "source": [
    "### Make timestamp conversions"
   ]
  },
  {
   "cell_type": "code",
   "execution_count": 316,
   "metadata": {},
   "outputs": [],
   "source": [
    "def convert_timestamps(data_frame):\n",
    "    data_frame['timestamp'] = pd.to_datetime(data_frame['timestamp'])\n",
    "    data_frame['time_epoch'] = (data_frame['timestamp'].astype(np.int64) / 100000000000).astype(np.int64)\n",
    "\n",
    "\n",
    "convert_timestamps(training_data_frame)\n",
    "convert_timestamps(test_data_frame)"
   ]
  },
  {
   "cell_type": "markdown",
   "metadata": {},
   "source": [
    "### Plot data with anomaly_labels"
   ]
  },
  {
   "cell_type": "code",
   "execution_count": 317,
   "metadata": {
    "scrolled": true
   },
   "outputs": [
    {
     "data": {
      "image/png": "[encoded data removed]",
      "text/plain": [
       "<Figure size 1152x504 with 1 Axes>"
      ]
     },
     "metadata": {
      "needs_background": "light"
     },
     "output_type": "display_data"
    }
   ],
   "source": [
    "def plot(data_frame):\n",
    "    fig, ax = plt.subplots()\n",
    "\n",
    "    a = data_frame.loc[data_frame['anomaly_label'] == 1, ['time_epoch', 'value']]\n",
    "\n",
    "    ax.scatter(data_frame['time_epoch'], data_frame['value'], s=8, color='blue')\n",
    "    ax.scatter(a['time_epoch'], a['value'], s=200, color='green')\n",
    "    plt.show()\n",
    "\n",
    "\n",
    "figsize(16, 7)\n",
    "\n",
    "plot(training_data_frame)"
   ]
  },
  {
   "cell_type": "code",
   "execution_count": 318,
   "metadata": {},
   "outputs": [
    {
     "data": {
      "image/png": "[encoded data removed]",
      "text/plain": [
       "<Figure size 1152x504 with 1 Axes>"
      ]
     },
     "metadata": {
      "needs_background": "light"
     },
     "output_type": "display_data"
    }
   ],
   "source": [
    "figsize(16, 7)\n",
    "\n",
    "plot(test_data_frame)"
   ]
  },
  {
   "cell_type": "markdown",
   "metadata": {},
   "source": [
    "### Scale the train data"
   ]
  },
  {
   "cell_type": "code",
   "execution_count": 391,
   "metadata": {},
   "outputs": [],
   "source": [
    "feature_list = ['value']\n",
    "features = len(feature_list)\n",
    "\n",
    "# TODO add comment on scaler\n",
    "min_max_scaler = preprocessing.StandardScaler()\n",
    "\n",
    "training_data = training_data_frame[feature_list].values.astype(np.float32)\n",
    "training_data = min_max_scaler.fit_transform(training_data)"
   ]
  },
  {
   "cell_type": "markdown",
   "metadata": {},
   "source": [
    "### Prepare training and validation data"
   ]
  },
  {
   "cell_type": "code",
   "execution_count": 491,
   "metadata": {},
   "outputs": [],
   "source": [
    "rows = len(training_data)\n",
    "\n",
    "split_factor = 0.5\n",
    "\n",
    "training = training_data[0:int(rows * split_factor)]\n",
    "validation = training_data[int(rows * split_factor):]"
   ]
  },
  {
   "cell_type": "code",
   "execution_count": 492,
   "metadata": {},
   "outputs": [],
   "source": [
    "ctx = mx.cpu()"
   ]
  },
  {
   "cell_type": "code",
   "execution_count": 493,
   "metadata": {},
   "outputs": [],
   "source": [
    "model = mx.gluon.nn.Sequential()\n",
    "with model.name_scope():\n",
    "    model.add(mx.gluon.rnn.LSTM(features))\n",
    "    model.add(mx.gluon.nn.Dense(features, activation='tanh'))\n",
    "\n",
    "\n",
    "model.collect_params().initialize(mx.init.Xavier(), ctx=ctx)\n",
    "\n",
    "trainer = gluon.Trainer(model.collect_params(), 'sgd', {'learning_rate': 0.01})"
   ]
  },
  {
   "cell_type": "code",
   "execution_count": 494,
   "metadata": {},
   "outputs": [],
   "source": [
    "L = gluon.loss.L2Loss()\n",
    "\n",
    "\n",
    "def evaluate_accuracy(data_iterator, model, L):\n",
    "    loss_avg = 0.\n",
    "    for i, data in enumerate(data_iterator):\n",
    "        data = data.as_in_context(ctx).reshape((-1, 1, features))\n",
    "        output = model(data)\n",
    "        loss = L(output, data)\n",
    "        loss_avg = (loss_avg * i + nd.mean(loss).asscalar()) / (i + 1)\n",
    "    return loss_avg"
   ]
  },
  {
   "cell_type": "code",
   "execution_count": 495,
   "metadata": {},
   "outputs": [
    {
     "name": "stdout",
     "output_type": "stream",
     "text": [
      "1\n",
      "2\n",
      "3\n",
      "4\n",
      "5\n",
      "6\n",
      "7\n",
      "8\n",
      "9\n",
      "10\n",
      "11\n",
      "12\n",
      "13\n",
      "14\n",
      "15\n",
      "16\n",
      "17\n",
      "18\n",
      "19\n",
      "20\n",
      "21\n",
      "22\n",
      "23\n",
      "24\n",
      "25\n",
      "26\n",
      "27\n",
      "28\n",
      "29\n",
      "30\n",
      "31\n",
      "32\n",
      "33\n",
      "34\n",
      "35\n",
      "36\n",
      "37\n",
      "38\n",
      "39\n",
      "40\n",
      "41\n",
      "42\n",
      "43\n",
      "44\n",
      "45\n",
      "46\n",
      "47\n",
      "48\n",
      "49\n",
      "50\n",
      "51\n",
      "52\n",
      "53\n",
      "54\n",
      "55\n",
      "56\n",
      "57\n",
      "58\n",
      "59\n",
      "60\n",
      "61\n",
      "62\n",
      "63\n",
      "64\n",
      "65\n",
      "66\n",
      "67\n",
      "68\n",
      "69\n",
      "70\n",
      "71\n",
      "72\n",
      "73\n",
      "74\n",
      "75\n",
      "76\n",
      "77\n",
      "78\n",
      "79\n",
      "80\n",
      "81\n",
      "82\n",
      "83\n",
      "84\n",
      "85\n",
      "86\n",
      "87\n",
      "88\n",
      "89\n",
      "90\n",
      "91\n",
      "92\n",
      "93\n",
      "94\n",
      "95\n",
      "96\n",
      "97\n",
      "98\n",
      "99\n",
      "100\n",
      "101\n",
      "102\n",
      "103\n",
      "104\n",
      "105\n",
      "106\n",
      "107\n",
      "108\n",
      "109\n",
      "110\n",
      "111\n",
      "112\n",
      "113\n",
      "114\n",
      "115\n",
      "116\n",
      "117\n",
      "118\n",
      "119\n",
      "120\n",
      "121\n",
      "122\n",
      "123\n",
      "124\n",
      "125\n",
      "126\n",
      "127\n",
      "128\n",
      "129\n",
      "130\n",
      "131\n",
      "132\n",
      "133\n",
      "134\n",
      "135\n",
      "136\n",
      "137\n",
      "138\n",
      "139\n",
      "140\n",
      "141\n",
      "142\n",
      "143\n",
      "144\n",
      "145\n",
      "146\n",
      "147\n",
      "148\n",
      "149\n",
      "150\n",
      "151\n",
      "152\n",
      "153\n",
      "154\n",
      "155\n",
      "156\n",
      "157\n",
      "158\n",
      "159\n",
      "160\n",
      "161\n",
      "162\n",
      "163\n",
      "164\n",
      "165\n",
      "166\n",
      "167\n",
      "168\n",
      "169\n",
      "170\n",
      "171\n",
      "172\n",
      "173\n",
      "174\n",
      "175\n",
      "176\n",
      "177\n",
      "178\n",
      "179\n",
      "180\n",
      "181\n",
      "182\n",
      "183\n",
      "184\n",
      "185\n",
      "186\n",
      "187\n",
      "188\n",
      "189\n",
      "190\n",
      "191\n",
      "192\n",
      "193\n",
      "194\n",
      "195\n",
      "196\n",
      "197\n",
      "198\n",
      "199\n",
      "200\n",
      "201\n",
      "202\n",
      "203\n",
      "204\n",
      "205\n",
      "206\n",
      "207\n",
      "208\n",
      "209\n",
      "210\n",
      "211\n",
      "212\n",
      "213\n",
      "214\n",
      "215\n",
      "216\n",
      "217\n",
      "218\n",
      "219\n",
      "220\n",
      "221\n",
      "222\n",
      "223\n",
      "224\n",
      "225\n",
      "226\n",
      "227\n",
      "228\n",
      "229\n",
      "230\n",
      "231\n",
      "232\n",
      "233\n",
      "234\n",
      "235\n",
      "236\n",
      "237\n",
      "238\n",
      "239\n",
      "240\n"
     ]
    }
   ],
   "source": [
    "epochs = 240\n",
    "batch_size = 12\n",
    "\n",
    "\n",
    "training_data_batches = mx.gluon.data.DataLoader(training, batch_size, shuffle=False)\n",
    "validation_data_batches = mx.gluon.data.DataLoader(validation, batch_size, shuffle=False)\n",
    "\n",
    "\n",
    "training_mse = []\n",
    "validation_mse = []\n",
    "\n",
    "\n",
    "for epoch in range(epochs):\n",
    "    print(str(epoch+1))\n",
    "    for i, data in enumerate(training_data_batches):\n",
    "        data = data.as_in_context(ctx).reshape((-1, 1, features))\n",
    "\n",
    "        with autograd.record():\n",
    "            output = model(data)\n",
    "            loss = L(output, data)\n",
    "\n",
    "        loss.backward()\n",
    "        trainer.step(batch_size)\n",
    "\n",
    "    training_mse.append(evaluate_accuracy(training_data_batches, model, L))\n",
    "    validation_mse.append(evaluate_accuracy(validation_data_batches, model, L))"
   ]
  },
  {
   "cell_type": "code",
   "execution_count": 496,
   "metadata": {},
   "outputs": [
    {
     "data": {
      "image/png": "[encoded data removed]",
      "text/plain": [
       "<Figure size 1152x504 with 1 Axes>"
      ]
     },
     "metadata": {
      "needs_background": "light"
     },
     "output_type": "display_data"
    }
   ],
   "source": [
    "def plot_errors(train_mse, validate_mse):\n",
    "    epochs = range(len(train_mse))\n",
    "    plt.plot(epochs, train_mse, label='Training')\n",
    "    plt.plot(epochs, validate_mse, label='Validation')\n",
    "    plt.ylabel('MSE')\n",
    "    plt.xlabel('Epoch')\n",
    "    plt.legend()\n",
    "    plt.show()\n",
    "\n",
    "\n",
    "figsize(16, 7)\n",
    "plot_errors(training_mse, validation_mse)"
   ]
  },
  {
   "cell_type": "code",
   "execution_count": 497,
   "metadata": {},
   "outputs": [],
   "source": [
    "def calculate_reconstruction_errors(input_data, L):\n",
    "    reconstruction_errors = []\n",
    "    for i, data in enumerate(input_data):\n",
    "        input = data.as_in_context(ctx).reshape((-1, features, 1))\n",
    "        predicted_value = model(input)\n",
    "        reconstruction_error = L(predicted_value, input).asnumpy().flatten()        \n",
    "        reconstruction_errors = np.append(\n",
    "            reconstruction_errors, reconstruction_error)\n",
    "\n",
    "    return reconstruction_errors"
   ]
  },
  {
   "cell_type": "code",
   "execution_count": 498,
   "metadata": {},
   "outputs": [],
   "source": [
    "all_training_data = mx.gluon.data.DataLoader(\n",
    "    training_data.astype(np.float32), batch_size, shuffle=False)\n",
    "\n",
    "training_reconstruction_errors = calculate_reconstruction_errors(all_training_data, L)\n",
    "reconstruction_error_threshold = np.mean(training_reconstruction_errors) + 3 * \\\n",
    "                                 np.std(training_reconstruction_errors)"
   ]
  },
  {
   "cell_type": "code",
   "execution_count": 499,
   "metadata": {},
   "outputs": [],
   "source": [
    "test_data = test_data_frame[feature_list].values.astype(np.float32)\n",
    "test_data = min_max_scaler.fit_transform(test_data)\n",
    "\n",
    "test_data_batches = mx.gluon.data.DataLoader(test_data, batch_size, shuffle=False)\n",
    "\n",
    "test_reconstruction_errors = calculate_reconstruction_errors(test_data_batches, L)\n",
    "\n",
    "predicted_test_anomalies = list(\n",
    "    map(lambda v: 1 if v > reconstruction_error_threshold else 0, test_reconstruction_errors))\n",
    "\n",
    "test_data_frame['anomaly_predicted'] = predicted_test_anomalies"
   ]
  },
  {
   "cell_type": "code",
   "execution_count": 500,
   "metadata": {},
   "outputs": [
    {
     "data": {
      "image/png": "[encoded data removed]",
      "text/plain": [
       "<Figure size 1152x504 with 1 Axes>"
      ]
     },
     "metadata": {
      "needs_background": "light"
     },
     "output_type": "display_data"
    }
   ],
   "source": [
    "fig, ax = plt.subplots()\n",
    "predicted_dots = test_data_frame.loc[test_data_frame['anomaly_predicted'] == 1, ['time_epoch', 'value']]\n",
    "label_dots = test_data_frame.loc[test_data_frame['anomaly_label'] == 1, ['time_epoch', 'value']]\n",
    "\n",
    "ax.scatter(test_data_frame['time_epoch'], test_data_frame['value'], s=8, color='blue')\n",
    "ax.scatter(label_dots['time_epoch'], label_dots['value'], s=200, color='green')\n",
    "ax.scatter(predicted_dots['time_epoch'], predicted_dots['value'], s=50, color='red')\n",
    "\n",
    "figsize(16, 7)\n",
    "plt.show()"
   ]
  },
  {
   "cell_type": "code",
   "execution_count": 501,
   "metadata": {},
   "outputs": [
    {
     "name": "stdout",
     "output_type": "stream",
     "text": [
      "F1 score: 0.8\n"
     ]
    }
   ],
   "source": [
    "test_labels = test_data_frame['anomaly_label'].astype(np.int64)\n",
    "\n",
    "f_score = f1_score(test_labels, predicted_test_anomalies)\n",
    "print('F1 score: ' + str(f_score))"
   ]
  },
  {
   "cell_type": "code",
   "execution_count": null,
   "metadata": {},
   "outputs": [],
   "source": []
  }
 ],
 "metadata": {
  "kernelspec": {
   "display_name": "Python 3",
   "language": "python",
   "name": "python3"
  },
  "language_info": {
   "codemirror_mode": {
    "name": "ipython",
    "version": 3
   },
   "file_extension": ".py",
   "mimetype": "text/x-python",
   "name": "python",
   "nbconvert_exporter": "python",
   "pygments_lexer": "ipython3",
   "version": "3.7.0"
  },
  "toc": {
   "nav_menu": {
    "height": "170px",
    "width": "246px"
   },
   "number_sections": true,
   "sideBar": true,
   "skip_h1_title": false,
   "toc_cell": false,
   "toc_position": {},
   "toc_section_display": "block",
   "toc_window_display": false
  }
 },
 "nbformat": 4,
 "nbformat_minor": 2
}
